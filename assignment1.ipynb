{
 "cells": [
  {
   "cell_type": "code",
   "execution_count": 5,
   "metadata": {},
   "outputs": [],
   "source": [
    "import numpy as np"
   ]
  },
  {
   "cell_type": "code",
   "execution_count": 6,
   "metadata": {},
   "outputs": [],
   "source": [
    "def dropout(x, p, axis):\n",
    "    if (axis == 1):  # set p percent of each row of x to 0\n",
    "        changes = int(len(x[0])*p)\n",
    "        for i in range(len(x)):\n",
    "            iters = 0\n",
    "            while (iters < changes):\n",
    "                temp = np.random.randint(0, len(x[0]))\n",
    "                if (x[i][temp] == 0):\n",
    "                    continue;\n",
    "                else:\n",
    "                    x[i][temp] = 0;\n",
    "                    iters += 1\n",
    "    elif (axis == 0):  # set p percent of each column of x to 0\n",
    "        changes = int(len(x)*p)\n",
    "        for i in range(len(x[0])):\n",
    "            iters = 0\n",
    "            while (iters < changes):\n",
    "                temp = np.random.randint(0, len(x))\n",
    "                if (x[temp][i] == 0):\n",
    "                    continue;\n",
    "                else:\n",
    "                    x[temp][i] = 0;\n",
    "                    iters += 1\n",
    "    else:\n",
    "        print('error')"
   ]
  },
  {
   "cell_type": "code",
   "execution_count": 7,
   "metadata": {},
   "outputs": [],
   "source": [
    "x = [[1,2,3,4], [1,2,3,4], [1,2,3,4], [1,2,3,4]]\n",
    "p = 0.5\n",
    "axis = 0"
   ]
  },
  {
   "cell_type": "code",
   "execution_count": 8,
   "metadata": {},
   "outputs": [
    {
     "name": "stdout",
     "output_type": "stream",
     "text": [
      "[[0, 2, 0, 4], [1, 2, 3, 0], [0, 0, 0, 0], [1, 0, 3, 4]]\n"
     ]
    }
   ],
   "source": [
    "dropout(x,p,axis)\n",
    "print(x)"
   ]
  },
  {
   "cell_type": "code",
   "execution_count": 17,
   "metadata": {},
   "outputs": [],
   "source": [
    "#joe\n",
    "import numpy as np\n",
    "\n",
    "def dropout(x, p, axis=0):\n",
    "    x = np.array(x)\n",
    "    if axis == 1: \n",
    "        x = x.T #flips rows and columns\n",
    "    m, n = x.shape\n",
    "    for col in range(n):\n",
    "        rows = np.random.choice(m, size=int(p*m), replace=False)\n",
    "        x[rows, col] = 0\n",
    "    if axis == 1: \n",
    "        x = x.T #flips rows and columns back\n",
    "    return x"
   ]
  },
  {
   "cell_type": "code",
   "execution_count": 24,
   "metadata": {},
   "outputs": [
    {
     "data": {
      "text/plain": [
       "array([[1., 1., 1., 1., 0., 1., 1., 1., 1., 1.],\n",
       "       [0., 1., 1., 1., 1., 0., 1., 1., 0., 1.],\n",
       "       [1., 1., 1., 1., 1., 1., 1., 1., 0., 1.],\n",
       "       [1., 1., 1., 1., 1., 1., 0., 1., 1., 0.],\n",
       "       [1., 1., 0., 0., 1., 1., 1., 0., 1., 1.],\n",
       "       [1., 1., 1., 1., 0., 1., 0., 1., 1., 1.],\n",
       "       [1., 1., 0., 1., 1., 1., 1., 0., 1., 1.],\n",
       "       [1., 1., 1., 1., 1., 1., 1., 1., 1., 0.],\n",
       "       [0., 0., 1., 0., 1., 0., 1., 1., 1., 1.],\n",
       "       [1., 0., 1., 1., 1., 1., 1., 1., 1., 1.]])"
      ]
     },
     "execution_count": 24,
     "metadata": {},
     "output_type": "execute_result"
    }
   ],
   "source": [
    "dropout(np.ones((10,10)), p=0.2, axis=0)"
   ]
  },
  {
   "cell_type": "code",
   "execution_count": 23,
   "metadata": {},
   "outputs": [
    {
     "data": {
      "text/plain": [
       "array([[1., 1., 1., 1., 0., 1., 1., 0., 1., 1.],\n",
       "       [1., 1., 1., 1., 1., 0., 0., 1., 1., 1.],\n",
       "       [1., 1., 0., 1., 1., 1., 1., 1., 1., 0.],\n",
       "       [1., 1., 0., 1., 1., 1., 0., 1., 1., 1.],\n",
       "       [1., 1., 1., 1., 1., 0., 1., 1., 1., 0.],\n",
       "       [1., 1., 1., 1., 0., 1., 1., 0., 1., 1.],\n",
       "       [0., 1., 1., 1., 1., 0., 1., 1., 1., 1.],\n",
       "       [1., 1., 0., 1., 0., 1., 1., 1., 1., 1.],\n",
       "       [1., 1., 0., 1., 1., 0., 1., 1., 1., 1.],\n",
       "       [1., 0., 1., 0., 1., 1., 1., 1., 1., 1.]])"
      ]
     },
     "execution_count": 23,
     "metadata": {},
     "output_type": "execute_result"
    }
   ],
   "source": [
    "dropout(np.ones((10,10)), p=0.2, axis=1)"
   ]
  },
  {
   "cell_type": "code",
   "execution_count": null,
   "metadata": {},
   "outputs": [],
   "source": []
  }
 ],
 "metadata": {
  "kernelspec": {
   "display_name": "Python 3",
   "language": "python",
   "name": "python3"
  },
  "language_info": {
   "codemirror_mode": {
    "name": "ipython",
    "version": 3
   },
   "file_extension": ".py",
   "mimetype": "text/x-python",
   "name": "python",
   "nbconvert_exporter": "python",
   "pygments_lexer": "ipython3",
   "version": "3.6.5"
  }
 },
 "nbformat": 4,
 "nbformat_minor": 2
}
