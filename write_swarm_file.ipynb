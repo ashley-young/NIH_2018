{
 "cells": [
  {
   "cell_type": "code",
   "execution_count": 1,
   "metadata": {},
   "outputs": [],
   "source": [
    "import matplotlib.pyplot as plt\n",
    "import numpy as np\n",
    "import os, pickle\n",
    "data_dir = '.'"
   ]
  },
  {
   "cell_type": "code",
   "execution_count": 3,
   "metadata": {},
   "outputs": [],
   "source": [
    "# max number of st/00 st/01 .. chunks to use\n",
    "max_i = 1\n",
    "\n",
    "movie_data = ['' for _ in range(max_i)]\n",
    "for i in range(max_i):\n",
    "    objects_file = os.path.join(data_dir, 'st', '%02i_objects.pkl' % (i, ))\n",
    "    with open(objects_file, 'rb') as f:\n",
    "        movie_data[i] = pickle.load(f)"
   ]
  },
  {
   "cell_type": "code",
   "execution_count": 4,
   "metadata": {},
   "outputs": [],
   "source": [
    "objects = [d for l in movie_data for d in l]\n",
    "unique_objects = np.unique([k for d in objects for k in d])\n",
    "n_frames = len(objects)\n",
    "n_unique_objects = unique_objects.shape[0]\n",
    "object_index = dict(zip(unique_objects, range(n_unique_objects)))"
   ]
  },
  {
   "cell_type": "code",
   "execution_count": 9,
   "metadata": {},
   "outputs": [
    {
     "name": "stdout",
     "output_type": "stream",
     "text": [
      "python object_fit.py airplane\n",
      "python object_fit.py apple\n",
      "python object_fit.py backpack\n",
      "python object_fit.py banana\n",
      "python object_fit.py baseball bat\n",
      "python object_fit.py baseball glove\n",
      "python object_fit.py bear\n",
      "python object_fit.py bed\n",
      "python object_fit.py bench\n",
      "python object_fit.py bicycle\n",
      "python object_fit.py bird\n",
      "python object_fit.py boat\n",
      "python object_fit.py book\n",
      "python object_fit.py bottle\n",
      "python object_fit.py bowl\n",
      "python object_fit.py broccoli\n",
      "python object_fit.py bus\n",
      "python object_fit.py cake\n",
      "python object_fit.py car\n",
      "python object_fit.py carrot\n",
      "python object_fit.py cat\n",
      "python object_fit.py cell phone\n",
      "python object_fit.py chair\n",
      "python object_fit.py clock\n",
      "python object_fit.py couch\n",
      "python object_fit.py cow\n",
      "python object_fit.py cup\n",
      "python object_fit.py dining table\n",
      "python object_fit.py dog\n",
      "python object_fit.py donut\n",
      "python object_fit.py elephant\n",
      "python object_fit.py fire hydrant\n",
      "python object_fit.py fork\n",
      "python object_fit.py frisbee\n",
      "python object_fit.py giraffe\n",
      "python object_fit.py hair drier\n",
      "python object_fit.py handbag\n",
      "python object_fit.py horse\n",
      "python object_fit.py hot dog\n",
      "python object_fit.py keyboard\n",
      "python object_fit.py kite\n",
      "python object_fit.py knife\n",
      "python object_fit.py laptop\n",
      "python object_fit.py microwave\n",
      "python object_fit.py motorcycle\n",
      "python object_fit.py mouse\n",
      "python object_fit.py orange\n",
      "python object_fit.py oven\n",
      "python object_fit.py parking meter\n",
      "python object_fit.py person\n",
      "python object_fit.py pizza\n",
      "python object_fit.py potted plant\n",
      "python object_fit.py refrigerator\n",
      "python object_fit.py remote\n",
      "python object_fit.py sandwich\n",
      "python object_fit.py scissors\n",
      "python object_fit.py sheep\n",
      "python object_fit.py sink\n",
      "python object_fit.py skateboard\n",
      "python object_fit.py skis\n",
      "python object_fit.py snowboard\n",
      "python object_fit.py spoon\n",
      "python object_fit.py sports ball\n",
      "python object_fit.py stop sign\n",
      "python object_fit.py suitcase\n",
      "python object_fit.py surfboard\n",
      "python object_fit.py teddy bear\n",
      "python object_fit.py tennis racket\n",
      "python object_fit.py tie\n",
      "python object_fit.py toaster\n",
      "python object_fit.py toilet\n",
      "python object_fit.py toothbrush\n",
      "python object_fit.py traffic light\n",
      "python object_fit.py train\n",
      "python object_fit.py truck\n",
      "python object_fit.py tv\n",
      "python object_fit.py umbrella\n",
      "python object_fit.py vase\n",
      "python object_fit.py wine glass\n",
      "python object_fit.py zebra\n"
     ]
    }
   ],
   "source": [
    "for i in object_index:\n",
    "    print('python object_fit.py', i)"
   ]
  },
  {
   "cell_type": "code",
   "execution_count": null,
   "metadata": {},
   "outputs": [],
   "source": []
  }
 ],
 "metadata": {
  "kernelspec": {
   "display_name": "Python 3",
   "language": "python",
   "name": "python3"
  },
  "language_info": {
   "codemirror_mode": {
    "name": "ipython",
    "version": 3
   },
   "file_extension": ".py",
   "mimetype": "text/x-python",
   "name": "python",
   "nbconvert_exporter": "python",
   "pygments_lexer": "ipython3",
   "version": "3.6.5"
  }
 },
 "nbformat": 4,
 "nbformat_minor": 2
}
