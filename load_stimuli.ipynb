%matplotlib inline
import numpy as np
import matplotlib.pyplot as plt
from skimage import img_as_float
import tables, os
 
# adjust data directory as desired
data_dir = '.'  # current directory
 
# sv: validation stimuli
# st: training stimuli
 
# load videos
# training videos are in 9 pieces: i=0-8 (12000 frames, ~5GB/each)
sv = np.load(os.path.join(data_dir, 'sv.npy'))
st_dir = os.path.join(data_dir, 'st')
i = 0
st = np.load(os.path.join(st_dir, '%02i.npy' % (i, )))
 
print('st shape:', st.shape)
print('sv shape:', st.shape)
 
# plot first from from each movie
fig, ax = plt.subplots(1, 2, figsize=(8, 4))
ax[0].imshow(st[0], aspect='equal')
ax[1].imshow(sv[0], aspect='equal')
for a in ax:
    a.axis('off')
plt.show()
