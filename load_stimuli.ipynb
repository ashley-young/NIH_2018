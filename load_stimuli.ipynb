{
 "cells": [
  {
   "cell_type": "code",
   "execution_count": null,
   "metadata": {},
   "outputs": [],
   "source": [
    "%matplotlib inline\n",
    "import numpy as np\n",
    "import matplotlib.pyplot as plt\n",
    "from skimage import img_as_float\n",
    "import tables, os\n",
    " \n",
    "# adjust data directory as desired\n",
    "data_dir = '.'  # current directory\n",
    " \n",
    "# st: training stimuli\n",
    "# sv: validation stimuli\n",
    "# Note: using np.load/save with .npy files is a lot faster than using tables\n",
    "st_file = os.path.join(data_dir, 'st.npy')\n",
    "sv_file = os.path.join(data_dir, 'sv.npy')\n",
    " \n",
    "# if .npy files exist, load them\n",
    "if os.path.exists(st_file) and os.path.exists(sv_file):\n",
    "    st = np.load(st_file)\n",
    "    sv = np.load(sv_file)\n",
    "# otherwise load .mat file\n",
    "else:\n",
    "    with tables.open_file(os.path.join(data_dir, 'Stimuli.mat')) as f:\n",
    "        st = f.get_node('/st')[:]\n",
    "        sv = f.get_node('/sv')[:]\n",
    " \n",
    "    # move axes so that frame dimensions correspond to: frames, width, height, color channels\n",
    "    st = np.moveaxis(st, 1, 3)\n",
    "    st = np.moveaxis(st, 1, 2)\n",
    "    sv = np.moveaxis(sv, 1, 3)\n",
    "    sv = np.moveaxis(sv, 1, 2)\n",
    "    st = img_as_float(st)\n",
    "    sv = img_as_float(sv)\n",
    " \n",
    "    # save npy files\n",
    "    np.save(st_file, st)\n",
    "    np.save(sv_file, sv)\n",
    "print('st shape:', st.shape)\n",
    "print('sv shape:', st.shape)\n",
    " \n",
    "# plot first from from each movie\n",
    "fig, ax = plt.subplots(1, 2, figsize=(8, 4))\n",
    "ax[0].imshow(st[0], aspect='equal')\n",
    "ax[1].imshow(sv[0], aspect='equal')\n",
    "for a in ax:\n",
    "    a.axis('off')\n",
    "plt.show()\n",
    "plt.savefig('filename.pn')"
   ]
  },
  {
   "cell_type": "code",
   "execution_count": null,
   "metadata": {},
   "outputs": [],
   "source": []
  },
  {
   "cell_type": "code",
   "execution_count": null,
   "metadata": {},
   "outputs": [],
   "source": []
  }
 ],
 "metadata": {
  "kernelspec": {
   "display_name": "Python 3",
   "language": "python",
   "name": "python3"
  },
  "language_info": {
   "codemirror_mode": {
    "name": "ipython",
    "version": 3
   },
   "file_extension": ".py",
   "mimetype": "text/x-python",
   "name": "python",
   "nbconvert_exporter": "python",
   "pygments_lexer": "ipython3",
   "version": "3.6.5"
  }
 },
 "nbformat": 4,
 "nbformat_minor": 2
}
