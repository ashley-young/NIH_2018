{
 "cells": [
  {
   "cell_type": "code",
   "execution_count": 7,
   "metadata": {},
   "outputs": [],
   "source": [
    "from scipy.linalg import solve\n",
    "from scipy.special import erf as erf\n",
    "import matplotlib.pyplot as plt\n",
    "import numpy as np\n",
    "import multiprocessing as mp\n",
    "import os, pickle\n",
    "import sys\n",
    "data_dir = '.'"
   ]
  },
  {
   "cell_type": "code",
   "execution_count": 8,
   "metadata": {},
   "outputs": [],
   "source": [
    "# max number of st/00 st/01 .. chunks to use\n",
    "max_i = 1\n",
    "# person\n",
    "subject = 1\n",
    "# seconds offset between movie and brain data\n",
    "lag = 1\n",
    "# maximum number of time points to use\n",
    "# truncate = 10\n",
    "# fraction of data that is training\n",
    "train_frac = 0.8\n",
    "\n",
    "object_name = sys.argv[1]\n",
    "\n",
    "movie_data = ['' for _ in range(max_i)]\n",
    "for i in range(max_i):\n",
    "    objects_file = os.path.join(data_dir, 'st', '%02i_objects.pkl' % (i, ))\n",
    "    with open(objects_file, 'rb') as f:\n",
    "        movie_data[i] = pickle.load(f)\n",
    "\n",
    "brain_data = [\n",
    "    np.load(\n",
    "        os.path.join(data_dir, 'subject_%i' % (subject, ), 'rt', '%02i.npy' % (\n",
    "            i, ))) for i in range(max_i)\n",
    "]\n",
    "brain_data = np.hstack(brain_data)\n",
    "complete_vox = np.isclose(np.isnan(brain_data).sum(1), 0)\n",
    "brain_data = brain_data[complete_vox]"
   ]
  },
  {
   "cell_type": "code",
   "execution_count": 54,
   "metadata": {},
   "outputs": [],
   "source": [
    "objects = [d for l in movie_data for d in l]\n",
    "unique_objects = np.unique([k for d in objects for k in d])\n",
    "n_frames = len(objects)\n",
    "n_unique_objects = unique_objects.shape[0]\n",
    "object_index = dict(zip(unique_objects, range(n_unique_objects)))"
   ]
  },
  {
   "cell_type": "code",
   "execution_count": 55,
   "metadata": {},
   "outputs": [],
   "source": [
    "confidence = np.zeros((n_unique_objects, n_frames))\n",
    "for frame, d in enumerate(objects):\n",
    "    for o, c in d.items():\n",
    "        confidence[object_index[o], frame] = c\n",
    "barcode = confidence.astype(bool)\n",
    "\n",
    "object_confidence = confidence[object_index[object_name]]\n",
    "object_mean = np.array([x.mean() for x in np.split(object_confidence, n_frames / 15)])\n",
    "\n",
    "object_mean = np.roll(object_mean, lag)\n",
    "x = np.vstack((object_mean, brain_data))\n",
    "x = x[:, lag:truncate]\n",
    "\n",
    "split = int(x.shape[1] * train_frac)\n",
    "x_train = x[:, :split]\n",
    "x_test = x[:, split:]\n",
    "\n",
    "# n, T = 20, int(1e4)\n",
    "n, T = x_train.shape\n",
    "dt = 1.\n",
    "l = np.int(np.ceil(T / dt))\n",
    "sqrt_dt = np.sqrt(dt)\n",
    "sqrt_2 = np.sqrt(2)\n",
    "rat = sqrt_dt / sqrt_2"
   ]
  },
  {
   "cell_type": "code",
   "execution_count": 6,
   "metadata": {},
   "outputs": [
    {
     "ename": "NameError",
     "evalue": "name 'x_train' is not defined",
     "output_type": "error",
     "traceback": [
      "\u001b[1;31m---------------------------------------------------------------------------\u001b[0m",
      "\u001b[1;31mNameError\u001b[0m                                 Traceback (most recent call last)",
      "\u001b[1;32m<ipython-input-6-c460087fb1da>\u001b[0m in \u001b[0;36m<module>\u001b[1;34m()\u001b[0m\n\u001b[1;32m----> 1\u001b[1;33m \u001b[0mx1\u001b[0m\u001b[1;33m,\u001b[0m \u001b[0mx2\u001b[0m \u001b[1;33m=\u001b[0m \u001b[0mx_train\u001b[0m\u001b[1;33m[\u001b[0m\u001b[1;33m:\u001b[0m\u001b[1;33m,\u001b[0m \u001b[1;33m:\u001b[0m\u001b[1;33m-\u001b[0m\u001b[1;36m1\u001b[0m\u001b[1;33m]\u001b[0m\u001b[1;33m,\u001b[0m \u001b[0mx_train\u001b[0m\u001b[1;33m[\u001b[0m\u001b[1;33m:\u001b[0m\u001b[1;33m,\u001b[0m \u001b[1;36m1\u001b[0m\u001b[1;33m:\u001b[0m\u001b[1;33m]\u001b[0m\u001b[1;33m\u001b[0m\u001b[0m\n\u001b[0m\u001b[0;32m      2\u001b[0m \u001b[0msign_dx\u001b[0m \u001b[1;33m=\u001b[0m \u001b[0mnp\u001b[0m\u001b[1;33m.\u001b[0m\u001b[0msign\u001b[0m\u001b[1;33m(\u001b[0m\u001b[0mnp\u001b[0m\u001b[1;33m.\u001b[0m\u001b[0mdiff\u001b[0m\u001b[1;33m(\u001b[0m\u001b[0mx_train\u001b[0m\u001b[1;33m)\u001b[0m\u001b[1;33m)\u001b[0m\u001b[1;33m\u001b[0m\u001b[0m\n\u001b[0;32m      3\u001b[0m \u001b[0mmean_x\u001b[0m \u001b[1;33m=\u001b[0m \u001b[0mx_train\u001b[0m\u001b[1;33m.\u001b[0m\u001b[0mmean\u001b[0m\u001b[1;33m(\u001b[0m\u001b[1;36m1\u001b[0m\u001b[1;33m)\u001b[0m\u001b[1;33m\u001b[0m\u001b[0m\n\u001b[0;32m      4\u001b[0m \u001b[0mcov_x\u001b[0m \u001b[1;33m=\u001b[0m \u001b[0mnp\u001b[0m\u001b[1;33m.\u001b[0m\u001b[0mcov\u001b[0m\u001b[1;33m(\u001b[0m\u001b[0mx_train\u001b[0m\u001b[1;33m)\u001b[0m\u001b[1;33m\u001b[0m\u001b[0m\n\u001b[0;32m      5\u001b[0m \u001b[0mx1_mean0\u001b[0m \u001b[1;33m=\u001b[0m \u001b[0mx1\u001b[0m \u001b[1;33m-\u001b[0m \u001b[0mmean_x\u001b[0m\u001b[1;33m[\u001b[0m\u001b[1;33m:\u001b[0m\u001b[1;33m,\u001b[0m \u001b[0mnp\u001b[0m\u001b[1;33m.\u001b[0m\u001b[0mnewaxis\u001b[0m\u001b[1;33m]\u001b[0m\u001b[1;33m\u001b[0m\u001b[0m\n",
      "\u001b[1;31mNameError\u001b[0m: name 'x_train' is not defined"
     ]
    }
   ],
   "source": [
    "x1, x2 = x_train[:, :-1], x_train[:, 1:]\n",
    "sign_dx = np.sign(np.diff(x_train))\n",
    "mean_x = x_train.mean(1)\n",
    "cov_x = np.cov(x_train)\n",
    "x1_mean0 = x1 - mean_x[:, np.newaxis]\n",
    "\n",
    "def fit(i, iters=10):\n",
    "\n",
    "    wi = np.zeros(n)\n",
    "    wi[i] = 1\n",
    "\n",
    "    # erf_last = erf(x1[i] * rat) + 1\n",
    "    erf_last = erf(x1[i]) + 1\n",
    "\n",
    "    e = []\n",
    "\n",
    "    for it in range(iters):\n",
    "\n",
    "        h = wi.dot(x1)\n",
    "\n",
    "        # erf_next = erf(h * rat)\n",
    "        erf_next = erf(h)\n",
    "        ei = np.linalg.norm(erf_next - erf_last)\n",
    "        e.append(ei)\n",
    "        print(i, it, ei)\n",
    "        if ei * ei < 1e-5:\n",
    "            break\n",
    "        erf_last = erf_next.copy()\n",
    "\n",
    "        h *= sign_dx[i] / erf_next\n",
    "\n",
    "        wi = solve(cov_x, x1_mean0.dot(h) / (l - 1))\n",
    "\n",
    "    return wi, e[1:]\n",
    "\n",
    "\n",
    "pool = mp.Pool(processes=mp.cpu_count())\n",
    "res = pool.map(fit, range(n))\n",
    "pool.close()\n",
    "pool.terminate()\n",
    "pool.join()\n",
    "\n",
    "w = np.empty((n, n))\n",
    "w = np.hstack([r[0] for r in res]) / rat\n",
    "e = [r[1] for r in res]"
   ]
  },
  {
   "cell_type": "code",
   "execution_count": null,
   "metadata": {},
   "outputs": [],
   "source": []
  },
  {
   "cell_type": "code",
   "execution_count": null,
   "metadata": {},
   "outputs": [],
   "source": []
  }
 ],
 "metadata": {
  "kernelspec": {
   "display_name": "Python 3",
   "language": "python",
   "name": "python3"
  },
  "language_info": {
   "codemirror_mode": {
    "name": "ipython",
    "version": 3
   },
   "file_extension": ".py",
   "mimetype": "text/x-python",
   "name": "python",
   "nbconvert_exporter": "python",
   "pygments_lexer": "ipython3",
   "version": "3.6.5"
  }
 },
 "nbformat": 4,
 "nbformat_minor": 2
}
